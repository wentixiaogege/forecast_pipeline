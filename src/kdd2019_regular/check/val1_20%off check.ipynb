{
 "cells": [
  {
   "cell_type": "code",
   "execution_count": 105,
   "metadata": {},
   "outputs": [],
   "source": [
    "import sys\n",
    "sys.path.insert(0, 'src/models/')\n",
    "sys.path.insert(0, 'src/conf/')\n",
    "sys.path.insert(0, '../../conf/')\n",
    "sys.path.insert(0, '../../models')\n",
    "sys.path.insert(0, '../../')\n",
    "from sklearn.metrics import log_loss\n",
    "from sklearn.model_selection import KFold, StratifiedKFold,train_test_split\n",
    "from conf_kdd_regular import *\n",
    "from utils import *\n",
    "import warnings\n",
    "warnings.filterwarnings(\"ignore\")\n",
    "\n",
    "def load_x(ds, preset):\n",
    "    feature_parts = [Dataset.load_part(ds, part) for part in preset.get('features', [])]\n",
    "    prediction_parts = [load_prediction(ds, p, mode=preset.get('predictions_mode', 'fulltrain')) for p in preset.get('predictions', [])]\n",
    "    prediction_parts = [p.clip(lower=0.1).values.reshape((p.shape[0], 1)) for p in prediction_parts] # 拦截clip\n",
    "\n",
    "    if 'prediction_transform' in preset:\n",
    "        prediction_parts = list(map(preset['prediction_transform'], prediction_parts))  # 是否需要对上一次的预测做变换\n",
    "\n",
    "    return hstack(feature_parts + prediction_parts)"
   ]
  },
  {
   "cell_type": "code",
   "execution_count": 106,
   "metadata": {},
   "outputs": [
    {
     "name": "stdout",
     "output_type": "stream",
     "text": [
      "Loading test data...\n"
     ]
    }
   ],
   "source": [
    "set_train='lgb-tst1'\n",
    "preset = presets[set_train]\n",
    "print(\"Loading test data...\")\n",
    "test_x = load_x('val1', preset)\n",
    "test_y = Dataset.load_part('val1', 'click_mode')"
   ]
  },
  {
   "cell_type": "code",
   "execution_count": 107,
   "metadata": {},
   "outputs": [
    {
     "name": "stdout",
     "output_type": "stream",
     "text": [
      "20190509-1015-lgb-tst1-0.67435-test-foldavg.csv\r\n",
      "20190509-1015-lgb-tst1-0.67435-test-fulltrain.csv\r\n",
      "20190509-1015-lgb-tst1-0.67435-train1.csv\r\n",
      "20190509-2054-lgb-tst1-0.67435-test_foldavg_p_backup.csv\r\n",
      "20190509-2054-lgb-tst1-0.67435-train1.csv\r\n",
      "20190509-2054-lgb-tst1-0.67435-val1-foldavg.csv\r\n",
      "20190509-2054-lgb-tst1-0.67435-val1-fulltrain.csv\r\n",
      "20190509-2305-lgb-tst1-0.67906-test_foldavg_p_backup.csv\r\n",
      "20190509-2305-lgb-tst1-0.67906-train1.csv\r\n",
      "20190509-2305-lgb-tst1-0.67906-va1l-foldavg.csv\r\n",
      "20190509-2305-lgb-tst1-0.67906-val1-fulltrain.csv\r\n",
      "20190511-2253-lgb-tst1-0.67905-test_foldavg_p_backup.csv\r\n",
      "20190511-2253-lgb-tst1-0.67905-train1.csv\r\n",
      "20190511-2253-lgb-tst1-0.67905-va1l-foldavg.csv\r\n",
      "20190511-2253-lgb-tst1-0.67905-val1-fulltrain.csv\r\n",
      "20190519-1417-lgb-tst1-0.67939-test_foldavg_p_backup.csv\r\n",
      "20190519-1417-lgb-tst1-0.67939-train1.csv\r\n",
      "20190519-1417-lgb-tst1-0.67939-va1l-foldavg.csv\r\n",
      "20190519-1417-lgb-tst1-0.67939-val1-fulltrain.csv\r\n",
      "20190519-1516-lgb-tst1-0.67929-test_foldavg_p_backup.csv\r\n",
      "20190519-1516-lgb-tst1-0.67929-train1.csv\r\n",
      "20190519-1516-lgb-tst1-0.67929-va1l-foldavg.csv\r\n",
      "20190519-1516-lgb-tst1-0.67929-val1-fulltrain.csv\r\n",
      "20190519-1558-lgb-tst1-0.67929-test_foldavg_p_backup.csv\r\n",
      "20190519-1558-lgb-tst1-0.67929-train1.csv\r\n",
      "20190519-1558-lgb-tst1-0.67929-va1l-foldavg.csv\r\n",
      "20190519-1558-lgb-tst1-0.67929-val1-fulltrain.csv\r\n"
     ]
    }
   ],
   "source": [
    "!ls ../val1"
   ]
  },
  {
   "cell_type": "code",
   "execution_count": 110,
   "metadata": {},
   "outputs": [],
   "source": [
    "pred_folds = pd.read_csv('../val1/20190519-1516-lgb-tst1-0.67929-va1l-foldavg.csv',index_col=['sid']).reset_index()\n",
    "pred_full = pd.read_csv('../val1/20190519-1516-lgb-tst1-0.67929-val1-fulltrain.csv',index_col=['sid']).reset_index()\n",
    "pred_folds.rename(columns={'sid':'index','click_mode':'pred_folds'},inplace=True)\n",
    "pred_full.rename(columns={'sid':'index','click_mode':'pred_full'},inplace=True)"
   ]
  },
  {
   "cell_type": "code",
   "execution_count": 111,
   "metadata": {},
   "outputs": [
    {
     "data": {
      "text/plain": [
       "array([0])"
      ]
     },
     "execution_count": 111,
     "metadata": {},
     "output_type": "execute_result"
    }
   ],
   "source": [
    "pred_full.pred_full.unique()"
   ]
  },
  {
   "cell_type": "code",
   "execution_count": 112,
   "metadata": {},
   "outputs": [],
   "source": [
    "df = pd.DataFrame(np.concatenate((test_x,test_y.reshape(-1,1)),axis=1),index=Dataset.load_part('val1', 'sid')).reset_index()"
   ]
  },
  {
   "cell_type": "code",
   "execution_count": 113,
   "metadata": {},
   "outputs": [
    {
     "data": {
      "text/html": [
       "<div>\n",
       "<style scoped>\n",
       "    .dataframe tbody tr th:only-of-type {\n",
       "        vertical-align: middle;\n",
       "    }\n",
       "\n",
       "    .dataframe tbody tr th {\n",
       "        vertical-align: top;\n",
       "    }\n",
       "\n",
       "    .dataframe thead th {\n",
       "        text-align: right;\n",
       "    }\n",
       "</style>\n",
       "<table border=\"1\" class=\"dataframe\">\n",
       "  <thead>\n",
       "    <tr style=\"text-align: right;\">\n",
       "      <th></th>\n",
       "      <th>index</th>\n",
       "      <th>0</th>\n",
       "      <th>1</th>\n",
       "      <th>2</th>\n",
       "      <th>3</th>\n",
       "      <th>4</th>\n",
       "      <th>5</th>\n",
       "      <th>6</th>\n",
       "      <th>7</th>\n",
       "      <th>8</th>\n",
       "      <th>...</th>\n",
       "      <th>129</th>\n",
       "      <th>130</th>\n",
       "      <th>131</th>\n",
       "      <th>132</th>\n",
       "      <th>133</th>\n",
       "      <th>134</th>\n",
       "      <th>135</th>\n",
       "      <th>136</th>\n",
       "      <th>137</th>\n",
       "      <th>138</th>\n",
       "    </tr>\n",
       "  </thead>\n",
       "  <tbody>\n",
       "    <tr>\n",
       "      <th>0</th>\n",
       "      <td>2963733.0</td>\n",
       "      <td>116.459999</td>\n",
       "      <td>39.990002</td>\n",
       "      <td>116.440002</td>\n",
       "      <td>39.910000</td>\n",
       "      <td>9045.625977</td>\n",
       "      <td>-1.0</td>\n",
       "      <td>-1.0</td>\n",
       "      <td>-1.000000</td>\n",
       "      <td>-1.000000</td>\n",
       "      <td>...</td>\n",
       "      <td>7.801606e-15</td>\n",
       "      <td>6.817824e-14</td>\n",
       "      <td>-2.194021e-14</td>\n",
       "      <td>-1.308156e-14</td>\n",
       "      <td>-2.322107e-15</td>\n",
       "      <td>2.025731e-15</td>\n",
       "      <td>-4.811759e-14</td>\n",
       "      <td>-1.219233e-14</td>\n",
       "      <td>-2.260537e-13</td>\n",
       "      <td>0.0</td>\n",
       "    </tr>\n",
       "    <tr>\n",
       "      <th>1</th>\n",
       "      <td>1597000.0</td>\n",
       "      <td>116.410004</td>\n",
       "      <td>39.950001</td>\n",
       "      <td>116.389999</td>\n",
       "      <td>39.900002</td>\n",
       "      <td>5808.971191</td>\n",
       "      <td>10458.0</td>\n",
       "      <td>6497.0</td>\n",
       "      <td>7872.000000</td>\n",
       "      <td>1619.366699</td>\n",
       "      <td>...</td>\n",
       "      <td>2.440425e-02</td>\n",
       "      <td>1.999160e-01</td>\n",
       "      <td>4.423971e-02</td>\n",
       "      <td>-2.913688e-02</td>\n",
       "      <td>3.229899e-03</td>\n",
       "      <td>-9.549007e-03</td>\n",
       "      <td>-7.056616e-03</td>\n",
       "      <td>-8.226720e-03</td>\n",
       "      <td>1.552618e-01</td>\n",
       "      <td>0.0</td>\n",
       "    </tr>\n",
       "    <tr>\n",
       "      <th>2</th>\n",
       "      <td>3087459.0</td>\n",
       "      <td>116.349998</td>\n",
       "      <td>39.759998</td>\n",
       "      <td>116.370003</td>\n",
       "      <td>39.910000</td>\n",
       "      <td>16742.478516</td>\n",
       "      <td>24707.0</td>\n",
       "      <td>17688.0</td>\n",
       "      <td>21288.599609</td>\n",
       "      <td>2554.528320</td>\n",
       "      <td>...</td>\n",
       "      <td>-3.591530e-01</td>\n",
       "      <td>-4.202637e-01</td>\n",
       "      <td>2.412019e-01</td>\n",
       "      <td>1.175059e-01</td>\n",
       "      <td>-2.283298e-01</td>\n",
       "      <td>4.201682e-01</td>\n",
       "      <td>-1.496629e-02</td>\n",
       "      <td>7.313113e-03</td>\n",
       "      <td>3.505438e-02</td>\n",
       "      <td>7.0</td>\n",
       "    </tr>\n",
       "    <tr>\n",
       "      <th>3</th>\n",
       "      <td>1504615.0</td>\n",
       "      <td>116.510002</td>\n",
       "      <td>39.919998</td>\n",
       "      <td>116.510002</td>\n",
       "      <td>39.919998</td>\n",
       "      <td>0.000000</td>\n",
       "      <td>1447.0</td>\n",
       "      <td>382.0</td>\n",
       "      <td>883.333313</td>\n",
       "      <td>437.012848</td>\n",
       "      <td>...</td>\n",
       "      <td>5.759255e-01</td>\n",
       "      <td>2.832073e-02</td>\n",
       "      <td>6.735145e-01</td>\n",
       "      <td>1.282068e-01</td>\n",
       "      <td>-1.958125e-02</td>\n",
       "      <td>-1.147366e-01</td>\n",
       "      <td>-2.703022e-01</td>\n",
       "      <td>6.368313e-02</td>\n",
       "      <td>-2.949696e-02</td>\n",
       "      <td>5.0</td>\n",
       "    </tr>\n",
       "    <tr>\n",
       "      <th>4</th>\n",
       "      <td>717211.0</td>\n",
       "      <td>116.220001</td>\n",
       "      <td>40.110001</td>\n",
       "      <td>115.570000</td>\n",
       "      <td>39.820000</td>\n",
       "      <td>64193.914062</td>\n",
       "      <td>160420.0</td>\n",
       "      <td>114618.0</td>\n",
       "      <td>132816.750000</td>\n",
       "      <td>19375.675781</td>\n",
       "      <td>...</td>\n",
       "      <td>-2.756396e-01</td>\n",
       "      <td>-3.042137e-01</td>\n",
       "      <td>1.980681e-01</td>\n",
       "      <td>-7.759263e-02</td>\n",
       "      <td>4.635213e-01</td>\n",
       "      <td>3.567856e-03</td>\n",
       "      <td>1.110680e-02</td>\n",
       "      <td>-1.049243e-01</td>\n",
       "      <td>-9.596228e-02</td>\n",
       "      <td>0.0</td>\n",
       "    </tr>\n",
       "  </tbody>\n",
       "</table>\n",
       "<p>5 rows × 140 columns</p>\n",
       "</div>"
      ],
      "text/plain": [
       "       index           0          1           2          3             4  \\\n",
       "0  2963733.0  116.459999  39.990002  116.440002  39.910000   9045.625977   \n",
       "1  1597000.0  116.410004  39.950001  116.389999  39.900002   5808.971191   \n",
       "2  3087459.0  116.349998  39.759998  116.370003  39.910000  16742.478516   \n",
       "3  1504615.0  116.510002  39.919998  116.510002  39.919998      0.000000   \n",
       "4   717211.0  116.220001  40.110001  115.570000  39.820000  64193.914062   \n",
       "\n",
       "          5         6              7             8  ...           129  \\\n",
       "0      -1.0      -1.0      -1.000000     -1.000000  ...  7.801606e-15   \n",
       "1   10458.0    6497.0    7872.000000   1619.366699  ...  2.440425e-02   \n",
       "2   24707.0   17688.0   21288.599609   2554.528320  ... -3.591530e-01   \n",
       "3    1447.0     382.0     883.333313    437.012848  ...  5.759255e-01   \n",
       "4  160420.0  114618.0  132816.750000  19375.675781  ... -2.756396e-01   \n",
       "\n",
       "            130           131           132           133           134  \\\n",
       "0  6.817824e-14 -2.194021e-14 -1.308156e-14 -2.322107e-15  2.025731e-15   \n",
       "1  1.999160e-01  4.423971e-02 -2.913688e-02  3.229899e-03 -9.549007e-03   \n",
       "2 -4.202637e-01  2.412019e-01  1.175059e-01 -2.283298e-01  4.201682e-01   \n",
       "3  2.832073e-02  6.735145e-01  1.282068e-01 -1.958125e-02 -1.147366e-01   \n",
       "4 -3.042137e-01  1.980681e-01 -7.759263e-02  4.635213e-01  3.567856e-03   \n",
       "\n",
       "            135           136           137  138  \n",
       "0 -4.811759e-14 -1.219233e-14 -2.260537e-13  0.0  \n",
       "1 -7.056616e-03 -8.226720e-03  1.552618e-01  0.0  \n",
       "2 -1.496629e-02  7.313113e-03  3.505438e-02  7.0  \n",
       "3 -2.703022e-01  6.368313e-02 -2.949696e-02  5.0  \n",
       "4  1.110680e-02 -1.049243e-01 -9.596228e-02  0.0  \n",
       "\n",
       "[5 rows x 140 columns]"
      ]
     },
     "execution_count": 113,
     "metadata": {},
     "output_type": "execute_result"
    }
   ],
   "source": [
    "df.head()"
   ]
  },
  {
   "cell_type": "code",
   "execution_count": 114,
   "metadata": {},
   "outputs": [
    {
     "data": {
      "text/plain": [
       "(110000, 2)"
      ]
     },
     "execution_count": 114,
     "metadata": {},
     "output_type": "execute_result"
    }
   ],
   "source": [
    "pred_folds.shape"
   ]
  },
  {
   "cell_type": "code",
   "execution_count": 115,
   "metadata": {},
   "outputs": [],
   "source": [
    "see = pd.merge(df,pred_folds,on='index')"
   ]
  },
  {
   "cell_type": "code",
   "execution_count": 116,
   "metadata": {},
   "outputs": [
    {
     "data": {
      "text/plain": [
       "(110000, 141)"
      ]
     },
     "execution_count": 116,
     "metadata": {},
     "output_type": "execute_result"
    }
   ],
   "source": [
    "see.shape"
   ]
  },
  {
   "cell_type": "code",
   "execution_count": 117,
   "metadata": {},
   "outputs": [],
   "source": [
    "see['same'] = see.apply(lambda x:x[138] if  int(x[138]) == x.pred_folds else -1,axis=1)"
   ]
  },
  {
   "cell_type": "code",
   "execution_count": 118,
   "metadata": {},
   "outputs": [
    {
     "name": "stdout",
     "output_type": "stream",
     "text": [
      "f1_score of model: 0.67722\n"
     ]
    }
   ],
   "source": [
    "print(\"f1_score of model: %.5f\" % f1_score(see[138],see['pred_folds'], average='weighted'))"
   ]
  },
  {
   "cell_type": "code",
   "execution_count": 119,
   "metadata": {},
   "outputs": [
    {
     "data": {
      "text/plain": [
       "(110000, 142)"
      ]
     },
     "execution_count": 119,
     "metadata": {},
     "output_type": "execute_result"
    }
   ],
   "source": [
    "see.shape"
   ]
  },
  {
   "cell_type": "code",
   "execution_count": 120,
   "metadata": {},
   "outputs": [
    {
     "data": {
      "text/plain": [
       "-1.0     31120\n",
       " 2.0     28178\n",
       " 7.0     14633\n",
       " 1.0     11672\n",
       " 5.0      9287\n",
       " 9.0      8859\n",
       " 0.0      2282\n",
       " 10.0     2079\n",
       " 11.0      945\n",
       " 6.0       481\n",
       " 3.0       348\n",
       " 8.0        96\n",
       " 4.0        20\n",
       "Name: same, dtype: int64"
      ]
     },
     "execution_count": 120,
     "metadata": {},
     "output_type": "execute_result"
    }
   ],
   "source": [
    "see.same.value_counts()"
   ]
  },
  {
   "cell_type": "code",
   "execution_count": 121,
   "metadata": {},
   "outputs": [],
   "source": [
    "# -1 : 预测不对的个数6823个  这次查了很多-1.0     31138"
   ]
  },
  {
   "cell_type": "code",
   "execution_count": 122,
   "metadata": {},
   "outputs": [
    {
     "data": {
      "text/plain": [
       "2     33558\n",
       "7     20794\n",
       "1     19124\n",
       "9     13483\n",
       "5     11967\n",
       "10     4348\n",
       "0      2414\n",
       "11     1859\n",
       "6      1318\n",
       "3       800\n",
       "8       283\n",
       "4        52\n",
       "Name: pred_folds, dtype: int64"
      ]
     },
     "execution_count": 122,
     "metadata": {},
     "output_type": "execute_result"
    }
   ],
   "source": [
    "see.pred_folds.value_counts()\n",
    "# 0类别和6类别预测比较差；--》可以看看概率是不是都很接近，表示识别不出来啊；；\n",
    "# 3类很差 4 类也很差"
   ]
  },
  {
   "cell_type": "code",
   "execution_count": 124,
   "metadata": {},
   "outputs": [
    {
     "data": {
      "text/plain": [
       "2.0     30120\n",
       "7.0     17218\n",
       "1.0     15457\n",
       "9.0     10750\n",
       "5.0     10359\n",
       "0.0     10265\n",
       "3.0      5376\n",
       "10.0     3279\n",
       "4.0      2847\n",
       "6.0      2559\n",
       "11.0     1335\n",
       "8.0       435\n",
       "Name: 138, dtype: int64"
      ]
     },
     "execution_count": 124,
     "metadata": {},
     "output_type": "execute_result"
    }
   ],
   "source": [
    "see[138].value_counts()"
   ]
  },
  {
   "cell_type": "code",
   "execution_count": 168,
   "metadata": {},
   "outputs": [
    {
     "data": {
      "text/plain": [
       "11    945\n",
       "1     154\n",
       "7     143\n",
       "2      33\n",
       "10     29\n",
       "3      16\n",
       "8       9\n",
       "0       4\n",
       "5       1\n",
       "4       1\n",
       "Name: pred_folds, dtype: int64"
      ]
     },
     "execution_count": 168,
     "metadata": {},
     "output_type": "execute_result"
    }
   ],
   "source": [
    "see[see[138] ==11].pred_folds.value_counts()\n",
    "#0 类别预测成了基本的分布\n",
    "#1（公交）类别预测成了7\n",
    "#2（公交）类别预测成了9\n",
    "#3（自驾）预测成了1（公交）7（地铁）\n",
    "#4（打车）预测成了1（公交）7（地铁）\n",
    "#5 （步行） 预测成了1\n",
    "#6（自行车）预测成了1（公交）5（步行）\n",
    "#7（地铁）预测称了9（公交）\n",
    "#8（打车+步行）预测称了1，7\n",
    "#9 （公交）预测成了7\n",
    "#10（地铁）预测成了7\n",
    "#11（公交）预测成了1，7\n",
    "\n",
    "#可以看到1类别很容易被别的类别混淆\n",
    "#齐次是7，9类别也很蛋疼\n",
    "#0类别是老大"
   ]
  },
  {
   "cell_type": "code",
   "execution_count": 146,
   "metadata": {},
   "outputs": [],
   "source": [
    "seefull = pd.read_csv('../val1/20190519-1516-lgb-tst1-0.67929-test_foldavg_p_backup.csv')"
   ]
  },
  {
   "cell_type": "code",
   "execution_count": 147,
   "metadata": {},
   "outputs": [],
   "source": [
    "seefull['clickmode'] = seefull.apply(lambda x:np.argmax(list(x[1:])),axis=1)"
   ]
  },
  {
   "cell_type": "code",
   "execution_count": 148,
   "metadata": {},
   "outputs": [
    {
     "data": {
      "text/html": [
       "<div>\n",
       "<style scoped>\n",
       "    .dataframe tbody tr th:only-of-type {\n",
       "        vertical-align: middle;\n",
       "    }\n",
       "\n",
       "    .dataframe tbody tr th {\n",
       "        vertical-align: top;\n",
       "    }\n",
       "\n",
       "    .dataframe thead th {\n",
       "        text-align: right;\n",
       "    }\n",
       "</style>\n",
       "<table border=\"1\" class=\"dataframe\">\n",
       "  <thead>\n",
       "    <tr style=\"text-align: right;\">\n",
       "      <th></th>\n",
       "      <th>Unnamed: 0</th>\n",
       "      <th>0</th>\n",
       "      <th>1</th>\n",
       "      <th>2</th>\n",
       "      <th>3</th>\n",
       "      <th>4</th>\n",
       "      <th>5</th>\n",
       "      <th>6</th>\n",
       "      <th>7</th>\n",
       "      <th>8</th>\n",
       "      <th>9</th>\n",
       "      <th>10</th>\n",
       "      <th>11</th>\n",
       "      <th>clickmode</th>\n",
       "    </tr>\n",
       "  </thead>\n",
       "  <tbody>\n",
       "    <tr>\n",
       "      <th>0</th>\n",
       "      <td>2963733.0</td>\n",
       "      <td>0.997082</td>\n",
       "      <td>0.000369</td>\n",
       "      <td>0.000485</td>\n",
       "      <td>0.000663</td>\n",
       "      <td>0.000155</td>\n",
       "      <td>0.000462</td>\n",
       "      <td>0.000206</td>\n",
       "      <td>0.000267</td>\n",
       "      <td>0.000018</td>\n",
       "      <td>0.000194</td>\n",
       "      <td>0.000063</td>\n",
       "      <td>0.000035</td>\n",
       "      <td>0</td>\n",
       "    </tr>\n",
       "    <tr>\n",
       "      <th>1</th>\n",
       "      <td>1597000.0</td>\n",
       "      <td>0.033759</td>\n",
       "      <td>0.002874</td>\n",
       "      <td>0.935495</td>\n",
       "      <td>0.003008</td>\n",
       "      <td>0.011469</td>\n",
       "      <td>0.000442</td>\n",
       "      <td>0.009413</td>\n",
       "      <td>0.001824</td>\n",
       "      <td>0.000061</td>\n",
       "      <td>0.000978</td>\n",
       "      <td>0.000399</td>\n",
       "      <td>0.000279</td>\n",
       "      <td>2</td>\n",
       "    </tr>\n",
       "    <tr>\n",
       "      <th>2</th>\n",
       "      <td>3087459.0</td>\n",
       "      <td>0.030271</td>\n",
       "      <td>0.001018</td>\n",
       "      <td>0.001745</td>\n",
       "      <td>0.015218</td>\n",
       "      <td>0.008617</td>\n",
       "      <td>0.000527</td>\n",
       "      <td>0.000199</td>\n",
       "      <td>0.864535</td>\n",
       "      <td>0.000062</td>\n",
       "      <td>0.000843</td>\n",
       "      <td>0.076829</td>\n",
       "      <td>0.000137</td>\n",
       "      <td>7</td>\n",
       "    </tr>\n",
       "    <tr>\n",
       "      <th>3</th>\n",
       "      <td>1504615.0</td>\n",
       "      <td>0.032660</td>\n",
       "      <td>0.000962</td>\n",
       "      <td>0.001336</td>\n",
       "      <td>0.008531</td>\n",
       "      <td>0.000585</td>\n",
       "      <td>0.928981</td>\n",
       "      <td>0.025283</td>\n",
       "      <td>0.000752</td>\n",
       "      <td>0.000061</td>\n",
       "      <td>0.000527</td>\n",
       "      <td>0.000196</td>\n",
       "      <td>0.000126</td>\n",
       "      <td>5</td>\n",
       "    </tr>\n",
       "    <tr>\n",
       "      <th>4</th>\n",
       "      <td>717211.0</td>\n",
       "      <td>0.108085</td>\n",
       "      <td>0.002098</td>\n",
       "      <td>0.003400</td>\n",
       "      <td>0.141026</td>\n",
       "      <td>0.029738</td>\n",
       "      <td>0.001068</td>\n",
       "      <td>0.000397</td>\n",
       "      <td>0.709541</td>\n",
       "      <td>0.000149</td>\n",
       "      <td>0.002793</td>\n",
       "      <td>0.001324</td>\n",
       "      <td>0.000382</td>\n",
       "      <td>7</td>\n",
       "    </tr>\n",
       "  </tbody>\n",
       "</table>\n",
       "</div>"
      ],
      "text/plain": [
       "   Unnamed: 0         0         1         2         3         4         5  \\\n",
       "0   2963733.0  0.997082  0.000369  0.000485  0.000663  0.000155  0.000462   \n",
       "1   1597000.0  0.033759  0.002874  0.935495  0.003008  0.011469  0.000442   \n",
       "2   3087459.0  0.030271  0.001018  0.001745  0.015218  0.008617  0.000527   \n",
       "3   1504615.0  0.032660  0.000962  0.001336  0.008531  0.000585  0.928981   \n",
       "4    717211.0  0.108085  0.002098  0.003400  0.141026  0.029738  0.001068   \n",
       "\n",
       "          6         7         8         9        10        11  clickmode  \n",
       "0  0.000206  0.000267  0.000018  0.000194  0.000063  0.000035          0  \n",
       "1  0.009413  0.001824  0.000061  0.000978  0.000399  0.000279          2  \n",
       "2  0.000199  0.864535  0.000062  0.000843  0.076829  0.000137          7  \n",
       "3  0.025283  0.000752  0.000061  0.000527  0.000196  0.000126          5  \n",
       "4  0.000397  0.709541  0.000149  0.002793  0.001324  0.000382          7  "
      ]
     },
     "execution_count": 148,
     "metadata": {},
     "output_type": "execute_result"
    }
   ],
   "source": [
    "seefull.head()"
   ]
  },
  {
   "cell_type": "code",
   "execution_count": 149,
   "metadata": {},
   "outputs": [
    {
     "data": {
      "text/plain": [
       "(31182, 14)"
      ]
     },
     "execution_count": 149,
     "metadata": {},
     "output_type": "execute_result"
    }
   ],
   "source": [
    "seefull[(seefull.clickmode ==2)&(seefull['2'] > 0.7)].shape"
   ]
  },
  {
   "cell_type": "code",
   "execution_count": 169,
   "metadata": {},
   "outputs": [
    {
     "name": "stdout",
     "output_type": "stream",
     "text": [
      "processing  1\n",
      "(486, 14)\n",
      "processing  2\n",
      "(157, 14)\n",
      "processing  3\n",
      "(91, 14)\n",
      "processing  4\n",
      "(27, 14)\n",
      "processing  5\n",
      "(188, 14)\n",
      "processing  6\n",
      "(163, 14)\n",
      "processing  7\n",
      "(164, 14)\n",
      "processing  8\n",
      "(63, 14)\n",
      "processing  9\n",
      "(155, 14)\n",
      "processing  10\n",
      "(105, 14)\n",
      "1599\n"
     ]
    }
   ],
   "source": [
    "check=0\n",
    "for i in range(1,11):\n",
    "    print 'processing ',i\n",
    "    aaa = seefull[(seefull.clickmode ==i)&(seefull[str(i)] < 0.3)]\n",
    "    check = check + aaa.shape[0]\n",
    "    print aaa.shape\n",
    "    seefull.loc[(seefull.clickmode ==i)&(seefull[str(i)] < 0.3),'clickmode'] = 0\n",
    "\n",
    "print check"
   ]
  },
  {
   "cell_type": "code",
   "execution_count": 170,
   "metadata": {},
   "outputs": [
    {
     "data": {
      "text/plain": [
       "array([ 0,  2,  7,  5,  1,  9,  6, 10, 11,  3,  8,  4])"
      ]
     },
     "execution_count": 170,
     "metadata": {},
     "output_type": "execute_result"
    }
   ],
   "source": [
    "seefull.clickmode.unique()"
   ]
  },
  {
   "cell_type": "code",
   "execution_count": 171,
   "metadata": {},
   "outputs": [
    {
     "name": "stdout",
     "output_type": "stream",
     "text": [
      "    f1_score of model: 0.67721\n"
     ]
    }
   ],
   "source": [
    "from sklearn.metrics import f1_score\n",
    "print(\"    f1_score of model: %.5f\" % f1_score(see[138],seefull.clickmode , average='weighted'))"
   ]
  },
  {
   "cell_type": "code",
   "execution_count": null,
   "metadata": {},
   "outputs": [],
   "source": [
    "# 目前发现强制改0还是不太对的；需要别的输入才行"
   ]
  },
  {
   "cell_type": "code",
   "execution_count": null,
   "metadata": {},
   "outputs": [],
   "source": []
  }
 ],
 "metadata": {
  "kernelspec": {
   "display_name": "Python 2",
   "language": "python",
   "name": "python2"
  },
  "language_info": {
   "codemirror_mode": {
    "name": "ipython",
    "version": 2
   },
   "file_extension": ".py",
   "mimetype": "text/x-python",
   "name": "python",
   "nbconvert_exporter": "python",
   "pygments_lexer": "ipython2",
   "version": "2.7.10"
  }
 },
 "nbformat": 4,
 "nbformat_minor": 1
}
